{
 "cells": [
  {
   "cell_type": "code",
   "execution_count": 2,
   "id": "6f8d203c",
   "metadata": {},
   "outputs": [],
   "source": [
    "import pandas as pd\n",
    "import numpy as np\n",
    "import matplotlib.pyplot as plt\n",
    "import seaborn as sns\n",
    "import pickle"
   ]
  },
  {
   "cell_type": "code",
   "execution_count": 162,
   "id": "63886cfb",
   "metadata": {},
   "outputs": [],
   "source": [
    "circuit=pd.read_csv('../Project/Formula 1 dataset/circuits.csv')\n",
    "races=pd.read_csv('../Project/Formula 1 dataset/races.csv')\n",
    "results=pd.read_csv('../Project/Formula 1 dataset/results.csv')\n",
    "drivers=pd.read_csv('../Project/Formula 1 dataset/drivers.csv')\n",
    "constructors=pd.read_csv('../Project/Formula 1 dataset/constructors.csv')\n",
    "lap_times=pd.read_csv('../Project/Formula 1 dataset/lap_times.csv')\n",
    "status=pd.read_csv('../Project/Formula 1 dataset/status.csv')\n",
    "quali=pd.read_csv('../Project/Formula 1 dataset/qualifying.csv')"
   ]
  },
  {
   "cell_type": "code",
   "execution_count": 50,
   "id": "ef6374eb",
   "metadata": {},
   "outputs": [
    {
     "data": {
      "text/plain": [
       "Index(['raceId', 'year', 'round', 'circuitId', 'name', 'date', 'time', 'url',\n",
       "       'fp1_date', 'fp1_time', 'fp2_date', 'fp2_time', 'fp3_date', 'fp3_time',\n",
       "       'quali_date', 'quali_time', 'sprint_date', 'sprint_time'],\n",
       "      dtype='object')"
      ]
     },
     "execution_count": 50,
     "metadata": {},
     "output_type": "execute_result"
    }
   ],
   "source": [
    "races.columns"
   ]
  },
  {
   "cell_type": "markdown",
   "id": "70d76ffb",
   "metadata": {},
   "source": [
    "Combining all the datasets"
   ]
  },
  {
   "cell_type": "code",
   "execution_count": 163,
   "id": "ea5285c2",
   "metadata": {},
   "outputs": [
    {
     "data": {
      "text/plain": [
       "Index(['raceId', 'year', 'round', 'circuitId', 'name_x', 'date', 'time_x',\n",
       "       'url_x', 'fp1_date', 'fp1_time', 'fp2_date', 'fp2_time', 'fp3_date',\n",
       "       'fp3_time', 'quali_date', 'quali_time', 'sprint_date', 'sprint_time',\n",
       "       'resultId', 'driverId', 'constructorId', 'number_x', 'grid',\n",
       "       'position_x', 'positionText', 'positionOrder', 'points', 'laps',\n",
       "       'time_y', 'milliseconds', 'fastestLap', 'rank', 'fastestLapTime',\n",
       "       'fastestLapSpeed', 'statusId', 'qualifyId', 'number_y', 'position_y',\n",
       "       'q1', 'q2', 'q3', 'driverRef', 'number', 'code', 'forename', 'surname',\n",
       "       'dob', 'nationality_x', 'url_y', 'constructorRef', 'name_y',\n",
       "       'nationality_y', 'url'],\n",
       "      dtype='object')"
      ]
     },
     "execution_count": 163,
     "metadata": {},
     "output_type": "execute_result"
    }
   ],
   "source": [
    "df1 = pd.merge(races,results,how='inner',on=['raceId'])\n",
    "df2 = pd.merge(df1,quali,how='inner',on=['raceId','driverId','constructorId'])\n",
    "df3 = pd.merge(df2,drivers,how='inner',on=['driverId'])\n",
    "df4 = pd.merge(df3,constructors,how='inner',on=['constructorId'])\n",
    "df4.columns"
   ]
  },
  {
   "cell_type": "code",
   "execution_count": 52,
   "id": "a897f8d9",
   "metadata": {},
   "outputs": [
    {
     "data": {
      "text/plain": [
       "Index(['circuitId', 'circuitRef', 'name', 'location', 'country', 'lat', 'lng',\n",
       "       'alt', 'url'],\n",
       "      dtype='object')"
      ]
     },
     "execution_count": 52,
     "metadata": {},
     "output_type": "execute_result"
    }
   ],
   "source": [
    "circuit.columns"
   ]
  },
  {
   "cell_type": "markdown",
   "id": "0c6e11c7",
   "metadata": {},
   "source": [
    "Dropping irrelevant columns"
   ]
  },
  {
   "cell_type": "code",
   "execution_count": 164,
   "id": "38cf00b8",
   "metadata": {},
   "outputs": [],
   "source": [
    "data = df4.drop(['round','time_x','url_x','resultId','driverId',\n",
    "                 'constructorId','number_x','positionText','position_x',\n",
    "                 'positionOrder','laps','time_y','rank',\n",
    "                 'fastestLapTime','fastestLapSpeed','qualifyId','driverRef','number','code','url_y','number_y',\n",
    "                 'points','constructorRef','name_x','raceId','fastestLap','q1','q2',\n",
    "                 'q3'],axis=1)"
   ]
  },
  {
   "cell_type": "code",
   "execution_count": 165,
   "id": "f2d3b9da",
   "metadata": {},
   "outputs": [],
   "source": [
    "df = pd.merge(data,circuit,how='inner',on=['circuitId'])"
   ]
  },
  {
   "cell_type": "code",
   "execution_count": 166,
   "id": "d5669400",
   "metadata": {},
   "outputs": [],
   "source": [
    "df=df.drop(['circuitRef','location','lat','lng','alt'],axis=1)"
   ]
  },
  {
   "cell_type": "code",
   "execution_count": 115,
   "id": "e27206a8",
   "metadata": {},
   "outputs": [
    {
     "data": {
      "text/plain": [
       "Index(['year', 'circuitId', 'date', 'fp1_date', 'fp1_time', 'fp2_date',\n",
       "       'fp2_time', 'fp3_date', 'fp3_time', 'quali_date', 'quali_time',\n",
       "       'sprint_date', 'sprint_time', 'grid', 'milliseconds', 'statusId',\n",
       "       'position_y', 'forename', 'surname', 'dob', 'nationality_x', 'name_y',\n",
       "       'nationality_y', 'url_x', 'name', 'country', 'url_y'],\n",
       "      dtype='object')"
      ]
     },
     "execution_count": 115,
     "metadata": {},
     "output_type": "execute_result"
    }
   ],
   "source": [
    "df.columns"
   ]
  },
  {
   "cell_type": "markdown",
   "id": "38eb6c6e",
   "metadata": {},
   "source": [
    "Considering Data after 2017"
   ]
  },
  {
   "cell_type": "code",
   "execution_count": 167,
   "id": "a67212af",
   "metadata": {},
   "outputs": [],
   "source": [
    "df = df[df['year']>=2015]"
   ]
  },
  {
   "cell_type": "code",
   "execution_count": 58,
   "id": "5601822d",
   "metadata": {},
   "outputs": [
    {
     "data": {
      "text/html": [
       "<div>\n",
       "<style scoped>\n",
       "    .dataframe tbody tr th:only-of-type {\n",
       "        vertical-align: middle;\n",
       "    }\n",
       "\n",
       "    .dataframe tbody tr th {\n",
       "        vertical-align: top;\n",
       "    }\n",
       "\n",
       "    .dataframe thead th {\n",
       "        text-align: right;\n",
       "    }\n",
       "</style>\n",
       "<table border=\"1\" class=\"dataframe\">\n",
       "  <thead>\n",
       "    <tr style=\"text-align: right;\">\n",
       "      <th></th>\n",
       "      <th>year</th>\n",
       "      <th>circuitId</th>\n",
       "      <th>date</th>\n",
       "      <th>fp1_date</th>\n",
       "      <th>fp1_time</th>\n",
       "      <th>fp2_date</th>\n",
       "      <th>fp2_time</th>\n",
       "      <th>fp3_date</th>\n",
       "      <th>fp3_time</th>\n",
       "      <th>quali_date</th>\n",
       "      <th>...</th>\n",
       "      <th>forename</th>\n",
       "      <th>surname</th>\n",
       "      <th>dob</th>\n",
       "      <th>nationality_x</th>\n",
       "      <th>name_y</th>\n",
       "      <th>nationality_y</th>\n",
       "      <th>url_x</th>\n",
       "      <th>name</th>\n",
       "      <th>country</th>\n",
       "      <th>url_y</th>\n",
       "    </tr>\n",
       "  </thead>\n",
       "  <tbody>\n",
       "    <tr>\n",
       "      <th>34</th>\n",
       "      <td>2017</td>\n",
       "      <td>1</td>\n",
       "      <td>2017-03-26</td>\n",
       "      <td>\\N</td>\n",
       "      <td>\\N</td>\n",
       "      <td>\\N</td>\n",
       "      <td>\\N</td>\n",
       "      <td>\\N</td>\n",
       "      <td>\\N</td>\n",
       "      <td>\\N</td>\n",
       "      <td>...</td>\n",
       "      <td>Nico</td>\n",
       "      <td>Hülkenberg</td>\n",
       "      <td>1987-08-19</td>\n",
       "      <td>German</td>\n",
       "      <td>Renault</td>\n",
       "      <td>French</td>\n",
       "      <td>http://en.wikipedia.org/wiki/Renault_in_Formul...</td>\n",
       "      <td>Albert Park Grand Prix Circuit</td>\n",
       "      <td>Australia</td>\n",
       "      <td>http://en.wikipedia.org/wiki/Melbourne_Grand_P...</td>\n",
       "    </tr>\n",
       "    <tr>\n",
       "      <th>35</th>\n",
       "      <td>2018</td>\n",
       "      <td>1</td>\n",
       "      <td>2018-03-25</td>\n",
       "      <td>\\N</td>\n",
       "      <td>\\N</td>\n",
       "      <td>\\N</td>\n",
       "      <td>\\N</td>\n",
       "      <td>\\N</td>\n",
       "      <td>\\N</td>\n",
       "      <td>\\N</td>\n",
       "      <td>...</td>\n",
       "      <td>Nico</td>\n",
       "      <td>Hülkenberg</td>\n",
       "      <td>1987-08-19</td>\n",
       "      <td>German</td>\n",
       "      <td>Renault</td>\n",
       "      <td>French</td>\n",
       "      <td>http://en.wikipedia.org/wiki/Renault_in_Formul...</td>\n",
       "      <td>Albert Park Grand Prix Circuit</td>\n",
       "      <td>Australia</td>\n",
       "      <td>http://en.wikipedia.org/wiki/Melbourne_Grand_P...</td>\n",
       "    </tr>\n",
       "    <tr>\n",
       "      <th>36</th>\n",
       "      <td>2019</td>\n",
       "      <td>1</td>\n",
       "      <td>2019-03-17</td>\n",
       "      <td>\\N</td>\n",
       "      <td>\\N</td>\n",
       "      <td>\\N</td>\n",
       "      <td>\\N</td>\n",
       "      <td>\\N</td>\n",
       "      <td>\\N</td>\n",
       "      <td>\\N</td>\n",
       "      <td>...</td>\n",
       "      <td>Nico</td>\n",
       "      <td>Hülkenberg</td>\n",
       "      <td>1987-08-19</td>\n",
       "      <td>German</td>\n",
       "      <td>Renault</td>\n",
       "      <td>French</td>\n",
       "      <td>http://en.wikipedia.org/wiki/Renault_in_Formul...</td>\n",
       "      <td>Albert Park Grand Prix Circuit</td>\n",
       "      <td>Australia</td>\n",
       "      <td>http://en.wikipedia.org/wiki/Melbourne_Grand_P...</td>\n",
       "    </tr>\n",
       "    <tr>\n",
       "      <th>39</th>\n",
       "      <td>2019</td>\n",
       "      <td>1</td>\n",
       "      <td>2019-03-17</td>\n",
       "      <td>\\N</td>\n",
       "      <td>\\N</td>\n",
       "      <td>\\N</td>\n",
       "      <td>\\N</td>\n",
       "      <td>\\N</td>\n",
       "      <td>\\N</td>\n",
       "      <td>\\N</td>\n",
       "      <td>...</td>\n",
       "      <td>Daniel</td>\n",
       "      <td>Ricciardo</td>\n",
       "      <td>1989-07-01</td>\n",
       "      <td>Australian</td>\n",
       "      <td>Renault</td>\n",
       "      <td>French</td>\n",
       "      <td>http://en.wikipedia.org/wiki/Renault_in_Formul...</td>\n",
       "      <td>Albert Park Grand Prix Circuit</td>\n",
       "      <td>Australia</td>\n",
       "      <td>http://en.wikipedia.org/wiki/Melbourne_Grand_P...</td>\n",
       "    </tr>\n",
       "    <tr>\n",
       "      <th>40</th>\n",
       "      <td>2016</td>\n",
       "      <td>1</td>\n",
       "      <td>2016-03-20</td>\n",
       "      <td>\\N</td>\n",
       "      <td>\\N</td>\n",
       "      <td>\\N</td>\n",
       "      <td>\\N</td>\n",
       "      <td>\\N</td>\n",
       "      <td>\\N</td>\n",
       "      <td>\\N</td>\n",
       "      <td>...</td>\n",
       "      <td>Kevin</td>\n",
       "      <td>Magnussen</td>\n",
       "      <td>1992-10-05</td>\n",
       "      <td>Danish</td>\n",
       "      <td>Renault</td>\n",
       "      <td>French</td>\n",
       "      <td>http://en.wikipedia.org/wiki/Renault_in_Formul...</td>\n",
       "      <td>Albert Park Grand Prix Circuit</td>\n",
       "      <td>Australia</td>\n",
       "      <td>http://en.wikipedia.org/wiki/Melbourne_Grand_P...</td>\n",
       "    </tr>\n",
       "  </tbody>\n",
       "</table>\n",
       "<p>5 rows × 27 columns</p>\n",
       "</div>"
      ],
      "text/plain": [
       "    year  circuitId        date fp1_date fp1_time fp2_date fp2_time fp3_date  \\\n",
       "34  2017          1  2017-03-26       \\N       \\N       \\N       \\N       \\N   \n",
       "35  2018          1  2018-03-25       \\N       \\N       \\N       \\N       \\N   \n",
       "36  2019          1  2019-03-17       \\N       \\N       \\N       \\N       \\N   \n",
       "39  2019          1  2019-03-17       \\N       \\N       \\N       \\N       \\N   \n",
       "40  2016          1  2016-03-20       \\N       \\N       \\N       \\N       \\N   \n",
       "\n",
       "   fp3_time quali_date  ... forename     surname         dob  nationality_x  \\\n",
       "34       \\N         \\N  ...     Nico  Hülkenberg  1987-08-19         German   \n",
       "35       \\N         \\N  ...     Nico  Hülkenberg  1987-08-19         German   \n",
       "36       \\N         \\N  ...     Nico  Hülkenberg  1987-08-19         German   \n",
       "39       \\N         \\N  ...   Daniel   Ricciardo  1989-07-01     Australian   \n",
       "40       \\N         \\N  ...    Kevin   Magnussen  1992-10-05         Danish   \n",
       "\n",
       "     name_y  nationality_y                                              url_x  \\\n",
       "34  Renault         French  http://en.wikipedia.org/wiki/Renault_in_Formul...   \n",
       "35  Renault         French  http://en.wikipedia.org/wiki/Renault_in_Formul...   \n",
       "36  Renault         French  http://en.wikipedia.org/wiki/Renault_in_Formul...   \n",
       "39  Renault         French  http://en.wikipedia.org/wiki/Renault_in_Formul...   \n",
       "40  Renault         French  http://en.wikipedia.org/wiki/Renault_in_Formul...   \n",
       "\n",
       "                              name    country  \\\n",
       "34  Albert Park Grand Prix Circuit  Australia   \n",
       "35  Albert Park Grand Prix Circuit  Australia   \n",
       "36  Albert Park Grand Prix Circuit  Australia   \n",
       "39  Albert Park Grand Prix Circuit  Australia   \n",
       "40  Albert Park Grand Prix Circuit  Australia   \n",
       "\n",
       "                                                url_y  \n",
       "34  http://en.wikipedia.org/wiki/Melbourne_Grand_P...  \n",
       "35  http://en.wikipedia.org/wiki/Melbourne_Grand_P...  \n",
       "36  http://en.wikipedia.org/wiki/Melbourne_Grand_P...  \n",
       "39  http://en.wikipedia.org/wiki/Melbourne_Grand_P...  \n",
       "40  http://en.wikipedia.org/wiki/Melbourne_Grand_P...  \n",
       "\n",
       "[5 rows x 27 columns]"
      ]
     },
     "execution_count": 58,
     "metadata": {},
     "output_type": "execute_result"
    }
   ],
   "source": [
    "df.head()"
   ]
  },
  {
   "cell_type": "code",
   "execution_count": 168,
   "id": "d44cf1d3",
   "metadata": {},
   "outputs": [],
   "source": [
    "df=df.drop(['circuitId'],axis=1)"
   ]
  },
  {
   "cell_type": "code",
   "execution_count": 118,
   "id": "caa47cc5",
   "metadata": {},
   "outputs": [
    {
     "data": {
      "text/plain": [
       "34    Albert Park Grand Prix Circuit\n",
       "35    Albert Park Grand Prix Circuit\n",
       "36    Albert Park Grand Prix Circuit\n",
       "39    Albert Park Grand Prix Circuit\n",
       "41    Albert Park Grand Prix Circuit\n",
       "Name: name, dtype: object"
      ]
     },
     "execution_count": 118,
     "metadata": {},
     "output_type": "execute_result"
    }
   ],
   "source": [
    "df['name'].head()"
   ]
  },
  {
   "cell_type": "code",
   "execution_count": 169,
   "id": "a64057ed",
   "metadata": {},
   "outputs": [],
   "source": [
    "df.rename(columns={'name':'GP_name','position_y':'position','grid':'quali_pos','name_y':'constructor','nationality_x':'driver_nationality','nationality_y':'constructor_nationality'},inplace=True)\n",
    "df['date'] = pd.to_datetime(df['date'])\n",
    "df['dob'] = pd.to_datetime(df['dob'])"
   ]
  },
  {
   "cell_type": "code",
   "execution_count": 170,
   "id": "031b7949",
   "metadata": {},
   "outputs": [],
   "source": [
    "df['driver'] = df['forename']+' '+df['surname']\n",
    "df.drop(['forename','surname'],axis=1,inplace=True)"
   ]
  },
  {
   "cell_type": "code",
   "execution_count": 137,
   "id": "0f16efcf",
   "metadata": {},
   "outputs": [
    {
     "data": {
      "text/html": [
       "<div>\n",
       "<style scoped>\n",
       "    .dataframe tbody tr th:only-of-type {\n",
       "        vertical-align: middle;\n",
       "    }\n",
       "\n",
       "    .dataframe tbody tr th {\n",
       "        vertical-align: top;\n",
       "    }\n",
       "\n",
       "    .dataframe thead th {\n",
       "        text-align: right;\n",
       "    }\n",
       "</style>\n",
       "<table border=\"1\" class=\"dataframe\">\n",
       "  <thead>\n",
       "    <tr style=\"text-align: right;\">\n",
       "      <th></th>\n",
       "      <th>year</th>\n",
       "      <th>date</th>\n",
       "      <th>fp1_date</th>\n",
       "      <th>fp1_time</th>\n",
       "      <th>fp2_date</th>\n",
       "      <th>fp2_time</th>\n",
       "      <th>fp3_date</th>\n",
       "      <th>fp3_time</th>\n",
       "      <th>quali_date</th>\n",
       "      <th>quali_time</th>\n",
       "      <th>...</th>\n",
       "      <th>position</th>\n",
       "      <th>dob</th>\n",
       "      <th>driver_nationality</th>\n",
       "      <th>constructor</th>\n",
       "      <th>constructor_nationality</th>\n",
       "      <th>url_x</th>\n",
       "      <th>GP_name</th>\n",
       "      <th>country</th>\n",
       "      <th>url_y</th>\n",
       "      <th>driver</th>\n",
       "    </tr>\n",
       "  </thead>\n",
       "  <tbody>\n",
       "    <tr>\n",
       "      <th>0</th>\n",
       "      <td>2009</td>\n",
       "      <td>2009-03-29</td>\n",
       "      <td>\\N</td>\n",
       "      <td>\\N</td>\n",
       "      <td>\\N</td>\n",
       "      <td>\\N</td>\n",
       "      <td>\\N</td>\n",
       "      <td>\\N</td>\n",
       "      <td>\\N</td>\n",
       "      <td>\\N</td>\n",
       "      <td>...</td>\n",
       "      <td>1</td>\n",
       "      <td>1980-01-19</td>\n",
       "      <td>British</td>\n",
       "      <td>Brawn</td>\n",
       "      <td>British</td>\n",
       "      <td>http://en.wikipedia.org/wiki/Brawn_GP</td>\n",
       "      <td>Albert Park Grand Prix Circuit</td>\n",
       "      <td>Australia</td>\n",
       "      <td>http://en.wikipedia.org/wiki/Melbourne_Grand_P...</td>\n",
       "      <td>Jenson Button</td>\n",
       "    </tr>\n",
       "    <tr>\n",
       "      <th>1</th>\n",
       "      <td>2009</td>\n",
       "      <td>2009-03-29</td>\n",
       "      <td>\\N</td>\n",
       "      <td>\\N</td>\n",
       "      <td>\\N</td>\n",
       "      <td>\\N</td>\n",
       "      <td>\\N</td>\n",
       "      <td>\\N</td>\n",
       "      <td>\\N</td>\n",
       "      <td>\\N</td>\n",
       "      <td>...</td>\n",
       "      <td>2</td>\n",
       "      <td>1972-05-23</td>\n",
       "      <td>Brazilian</td>\n",
       "      <td>Brawn</td>\n",
       "      <td>British</td>\n",
       "      <td>http://en.wikipedia.org/wiki/Brawn_GP</td>\n",
       "      <td>Albert Park Grand Prix Circuit</td>\n",
       "      <td>Australia</td>\n",
       "      <td>http://en.wikipedia.org/wiki/Melbourne_Grand_P...</td>\n",
       "      <td>Rubens Barrichello</td>\n",
       "    </tr>\n",
       "  </tbody>\n",
       "</table>\n",
       "<p>2 rows × 25 columns</p>\n",
       "</div>"
      ],
      "text/plain": [
       "   year       date fp1_date fp1_time fp2_date fp2_time fp3_date fp3_time  \\\n",
       "0  2009 2009-03-29       \\N       \\N       \\N       \\N       \\N       \\N   \n",
       "1  2009 2009-03-29       \\N       \\N       \\N       \\N       \\N       \\N   \n",
       "\n",
       "  quali_date quali_time  ... position        dob  driver_nationality  \\\n",
       "0         \\N         \\N  ...        1 1980-01-19             British   \n",
       "1         \\N         \\N  ...        2 1972-05-23           Brazilian   \n",
       "\n",
       "  constructor  constructor_nationality                                  url_x  \\\n",
       "0       Brawn                  British  http://en.wikipedia.org/wiki/Brawn_GP   \n",
       "1       Brawn                  British  http://en.wikipedia.org/wiki/Brawn_GP   \n",
       "\n",
       "                          GP_name    country  \\\n",
       "0  Albert Park Grand Prix Circuit  Australia   \n",
       "1  Albert Park Grand Prix Circuit  Australia   \n",
       "\n",
       "                                               url_y              driver  \n",
       "0  http://en.wikipedia.org/wiki/Melbourne_Grand_P...       Jenson Button  \n",
       "1  http://en.wikipedia.org/wiki/Melbourne_Grand_P...  Rubens Barrichello  \n",
       "\n",
       "[2 rows x 25 columns]"
      ]
     },
     "execution_count": 137,
     "metadata": {},
     "output_type": "execute_result"
    }
   ],
   "source": [
    "df.head(2)"
   ]
  },
  {
   "cell_type": "code",
   "execution_count": 171,
   "id": "b7833380",
   "metadata": {},
   "outputs": [
    {
     "data": {
      "text/plain": [
       "Index(['year', 'date', 'fp1_date', 'fp1_time', 'fp2_date', 'fp2_time',\n",
       "       'fp3_date', 'fp3_time', 'quali_date', 'quali_time', 'sprint_date',\n",
       "       'sprint_time', 'quali_pos', 'milliseconds', 'statusId', 'position',\n",
       "       'dob', 'driver_nationality', 'constructor', 'constructor_nationality',\n",
       "       'url_x', 'GP_name', 'country', 'url_y', 'driver'],\n",
       "      dtype='object')"
      ]
     },
     "execution_count": 171,
     "metadata": {},
     "output_type": "execute_result"
    }
   ],
   "source": [
    "df.columns"
   ]
  },
  {
   "cell_type": "code",
   "execution_count": 172,
   "id": "8a32f062",
   "metadata": {},
   "outputs": [],
   "source": [
    "df=df.drop(['fp1_date', 'fp1_time', 'fp2_date', 'fp2_time',\n",
    "       'fp3_date', 'fp3_time', 'quali_date', 'quali_time', 'sprint_date',\n",
    "       'sprint_time'],axis=1)"
   ]
  },
  {
   "cell_type": "code",
   "execution_count": 140,
   "id": "15b2c566",
   "metadata": {},
   "outputs": [
    {
     "data": {
      "text/html": [
       "<div>\n",
       "<style scoped>\n",
       "    .dataframe tbody tr th:only-of-type {\n",
       "        vertical-align: middle;\n",
       "    }\n",
       "\n",
       "    .dataframe tbody tr th {\n",
       "        vertical-align: top;\n",
       "    }\n",
       "\n",
       "    .dataframe thead th {\n",
       "        text-align: right;\n",
       "    }\n",
       "</style>\n",
       "<table border=\"1\" class=\"dataframe\">\n",
       "  <thead>\n",
       "    <tr style=\"text-align: right;\">\n",
       "      <th></th>\n",
       "      <th>year</th>\n",
       "      <th>date</th>\n",
       "      <th>quali_pos</th>\n",
       "      <th>milliseconds</th>\n",
       "      <th>statusId</th>\n",
       "      <th>position</th>\n",
       "      <th>dob</th>\n",
       "      <th>driver_nationality</th>\n",
       "      <th>constructor</th>\n",
       "      <th>constructor_nationality</th>\n",
       "      <th>url_x</th>\n",
       "      <th>GP_name</th>\n",
       "      <th>country</th>\n",
       "      <th>url_y</th>\n",
       "      <th>driver</th>\n",
       "    </tr>\n",
       "  </thead>\n",
       "  <tbody>\n",
       "    <tr>\n",
       "      <th>0</th>\n",
       "      <td>2009</td>\n",
       "      <td>2009-03-29</td>\n",
       "      <td>1</td>\n",
       "      <td>5655784</td>\n",
       "      <td>1</td>\n",
       "      <td>1</td>\n",
       "      <td>1980-01-19</td>\n",
       "      <td>British</td>\n",
       "      <td>Brawn</td>\n",
       "      <td>British</td>\n",
       "      <td>http://en.wikipedia.org/wiki/Brawn_GP</td>\n",
       "      <td>Albert Park Grand Prix Circuit</td>\n",
       "      <td>Australia</td>\n",
       "      <td>http://en.wikipedia.org/wiki/Melbourne_Grand_P...</td>\n",
       "      <td>Jenson Button</td>\n",
       "    </tr>\n",
       "    <tr>\n",
       "      <th>1</th>\n",
       "      <td>2009</td>\n",
       "      <td>2009-03-29</td>\n",
       "      <td>2</td>\n",
       "      <td>5656591</td>\n",
       "      <td>1</td>\n",
       "      <td>2</td>\n",
       "      <td>1972-05-23</td>\n",
       "      <td>Brazilian</td>\n",
       "      <td>Brawn</td>\n",
       "      <td>British</td>\n",
       "      <td>http://en.wikipedia.org/wiki/Brawn_GP</td>\n",
       "      <td>Albert Park Grand Prix Circuit</td>\n",
       "      <td>Australia</td>\n",
       "      <td>http://en.wikipedia.org/wiki/Melbourne_Grand_P...</td>\n",
       "      <td>Rubens Barrichello</td>\n",
       "    </tr>\n",
       "    <tr>\n",
       "      <th>2</th>\n",
       "      <td>2008</td>\n",
       "      <td>2008-03-16</td>\n",
       "      <td>12</td>\n",
       "      <td>\\N</td>\n",
       "      <td>4</td>\n",
       "      <td>13</td>\n",
       "      <td>1980-01-19</td>\n",
       "      <td>British</td>\n",
       "      <td>Honda</td>\n",
       "      <td>Japanese</td>\n",
       "      <td>http://en.wikipedia.org/wiki/Honda_Racing_F1</td>\n",
       "      <td>Albert Park Grand Prix Circuit</td>\n",
       "      <td>Australia</td>\n",
       "      <td>http://en.wikipedia.org/wiki/Melbourne_Grand_P...</td>\n",
       "      <td>Jenson Button</td>\n",
       "    </tr>\n",
       "    <tr>\n",
       "      <th>3</th>\n",
       "      <td>2007</td>\n",
       "      <td>2007-03-18</td>\n",
       "      <td>14</td>\n",
       "      <td>\\N</td>\n",
       "      <td>11</td>\n",
       "      <td>14</td>\n",
       "      <td>1980-01-19</td>\n",
       "      <td>British</td>\n",
       "      <td>Honda</td>\n",
       "      <td>Japanese</td>\n",
       "      <td>http://en.wikipedia.org/wiki/Honda_Racing_F1</td>\n",
       "      <td>Albert Park Grand Prix Circuit</td>\n",
       "      <td>Australia</td>\n",
       "      <td>http://en.wikipedia.org/wiki/Melbourne_Grand_P...</td>\n",
       "      <td>Jenson Button</td>\n",
       "    </tr>\n",
       "    <tr>\n",
       "      <th>4</th>\n",
       "      <td>2006</td>\n",
       "      <td>2006-04-02</td>\n",
       "      <td>1</td>\n",
       "      <td>\\N</td>\n",
       "      <td>11</td>\n",
       "      <td>1</td>\n",
       "      <td>1980-01-19</td>\n",
       "      <td>British</td>\n",
       "      <td>Honda</td>\n",
       "      <td>Japanese</td>\n",
       "      <td>http://en.wikipedia.org/wiki/Honda_Racing_F1</td>\n",
       "      <td>Albert Park Grand Prix Circuit</td>\n",
       "      <td>Australia</td>\n",
       "      <td>http://en.wikipedia.org/wiki/Melbourne_Grand_P...</td>\n",
       "      <td>Jenson Button</td>\n",
       "    </tr>\n",
       "  </tbody>\n",
       "</table>\n",
       "</div>"
      ],
      "text/plain": [
       "   year       date  quali_pos milliseconds  statusId  position        dob  \\\n",
       "0  2009 2009-03-29          1      5655784         1         1 1980-01-19   \n",
       "1  2009 2009-03-29          2      5656591         1         2 1972-05-23   \n",
       "2  2008 2008-03-16         12           \\N         4        13 1980-01-19   \n",
       "3  2007 2007-03-18         14           \\N        11        14 1980-01-19   \n",
       "4  2006 2006-04-02          1           \\N        11         1 1980-01-19   \n",
       "\n",
       "  driver_nationality constructor constructor_nationality  \\\n",
       "0            British       Brawn                 British   \n",
       "1          Brazilian       Brawn                 British   \n",
       "2            British       Honda                Japanese   \n",
       "3            British       Honda                Japanese   \n",
       "4            British       Honda                Japanese   \n",
       "\n",
       "                                          url_x  \\\n",
       "0         http://en.wikipedia.org/wiki/Brawn_GP   \n",
       "1         http://en.wikipedia.org/wiki/Brawn_GP   \n",
       "2  http://en.wikipedia.org/wiki/Honda_Racing_F1   \n",
       "3  http://en.wikipedia.org/wiki/Honda_Racing_F1   \n",
       "4  http://en.wikipedia.org/wiki/Honda_Racing_F1   \n",
       "\n",
       "                          GP_name    country  \\\n",
       "0  Albert Park Grand Prix Circuit  Australia   \n",
       "1  Albert Park Grand Prix Circuit  Australia   \n",
       "2  Albert Park Grand Prix Circuit  Australia   \n",
       "3  Albert Park Grand Prix Circuit  Australia   \n",
       "4  Albert Park Grand Prix Circuit  Australia   \n",
       "\n",
       "                                               url_y              driver  \n",
       "0  http://en.wikipedia.org/wiki/Melbourne_Grand_P...       Jenson Button  \n",
       "1  http://en.wikipedia.org/wiki/Melbourne_Grand_P...  Rubens Barrichello  \n",
       "2  http://en.wikipedia.org/wiki/Melbourne_Grand_P...       Jenson Button  \n",
       "3  http://en.wikipedia.org/wiki/Melbourne_Grand_P...       Jenson Button  \n",
       "4  http://en.wikipedia.org/wiki/Melbourne_Grand_P...       Jenson Button  "
      ]
     },
     "execution_count": 140,
     "metadata": {},
     "output_type": "execute_result"
    }
   ],
   "source": [
    "df.head()"
   ]
  },
  {
   "cell_type": "markdown",
   "id": "362635c6",
   "metadata": {},
   "source": [
    "Team names have changed over the years so updating the team names accordingly."
   ]
  },
  {
   "cell_type": "code",
   "execution_count": 173,
   "id": "80bb07d7",
   "metadata": {},
   "outputs": [],
   "source": [
    "df['constructor'] = df['constructor'].apply(lambda x: 'Racing Point' if x=='Force India' else x)\n",
    "df['constructor'] = df['constructor'].apply(lambda x: 'Racing Point' if x=='Aston Martin' else x)\n",
    "df['constructor'] = df['constructor'].apply(lambda x: 'Alfa Romeo' if x=='Sauber' else x)\n",
    "df['constructor'] = df['constructor'].apply(lambda x: 'Renault' if x=='Lotus F1' else x)\n",
    "df['constructor'] = df['constructor'].apply(lambda x: 'Alpine F1 Team' if x=='Renault' else x)\n",
    "df['constructor'] = df['constructor'].apply(lambda x: 'AlphaTauri' if x=='Toro Rosso' else x)"
   ]
  },
  {
   "cell_type": "markdown",
   "id": "3347d815",
   "metadata": {},
   "source": [
    "Changing the country name to short forms and find the home country for drivers ans constructors."
   ]
  },
  {
   "cell_type": "code",
   "execution_count": 174,
   "id": "93d3a9a6",
   "metadata": {},
   "outputs": [],
   "source": [
    "df['driver_nationality']=df['driver_nationality'].apply(lambda x: x if (x==\"Australia\" or x==\"Austrian\") else str(x)[:3])\n",
    "df['constructor_nationality']=df['constructor_nationality'].apply(lambda x: x if (x==\"Australia\" or x==\"Austrian\") else str(x)[:3])"
   ]
  },
  {
   "cell_type": "code",
   "execution_count": 175,
   "id": "2e75a050",
   "metadata": {},
   "outputs": [],
   "source": [
    "df['country'] = df['country'].apply(lambda x: 'Bri' if x=='UK' else x)\n",
    "df['country'] = df['country'].apply(lambda x: 'Ame' if x=='USA' else x)\n",
    "df['country'] = df['country'].apply(lambda x: 'Fre' if x=='Fra' else x)\n",
    "df['country'] = df['country'].apply(lambda x: x if (x==\"Australia\" or x==\"Austria\") else str(x)[:3])\n",
    "df['constructor_nationality']=df['constructor_nationality'].apply(lambda x: \"Austria\" if x==\"Austrian\" else x)"
   ]
  },
  {
   "cell_type": "markdown",
   "id": "7082805c",
   "metadata": {},
   "source": [
    "Checking if it is home race for constructor or driver as it plays a crucial role"
   ]
  },
  {
   "cell_type": "code",
   "execution_count": 176,
   "id": "112647ac",
   "metadata": {},
   "outputs": [],
   "source": [
    "df['driver_home'] = df['driver_nationality'] == df['country']\n",
    "df['constructor_home'] = df['constructor_nationality'] == df['country']\n",
    "df['driver_home'] = df['driver_home'].apply(lambda x: int(x))\n",
    "df['constructor_home'] = df['constructor_home'].apply(lambda x: int(x))"
   ]
  },
  {
   "cell_type": "markdown",
   "id": "d9e90067",
   "metadata": {},
   "source": [
    "Calculating Age of driver at the GP "
   ]
  },
  {
   "cell_type": "code",
   "execution_count": 177,
   "id": "d1b992b3",
   "metadata": {},
   "outputs": [],
   "source": [
    "df['age_at_gp_in_days'] = abs(df['dob']-df['date'])\n",
    "df['age_at_gp_in_days'] = df['age_at_gp_in_days'].apply(lambda x: str(x).split(' ')[0])\n",
    "df=df.drop(['dob','date'],axis=1)"
   ]
  },
  {
   "cell_type": "markdown",
   "id": "f7b711a3",
   "metadata": {},
   "source": [
    "Checking Reasons for DNF"
   ]
  },
  {
   "cell_type": "code",
   "execution_count": 178,
   "id": "c294407c",
   "metadata": {},
   "outputs": [
    {
     "name": "stdout",
     "output_type": "stream",
     "text": [
      "   statusId    status\n",
      "2         3  Accident\n",
      "   statusId     status\n",
      "3         4  Collision\n",
      "    statusId    status\n",
      "19        20  Spun off\n",
      "    statusId    status\n",
      "28        29  Puncture\n",
      "    statusId   status\n",
      "30        31  Retired\n",
      "    statusId       status\n",
      "40        41  Broken wing\n",
      "    statusId    status\n",
      "67        68  Physical\n",
      "    statusId   status\n",
      "72        73  Injured\n",
      "    statusId           status\n",
      "80        81  Did not qualify\n",
      "    statusId              status\n",
      "96        97  Did not prequalify\n",
      "    statusId  status\n",
      "81        82  Injury\n",
      "     statusId          status\n",
      "103       104  Fatal accident\n",
      "     statusId      status\n",
      "106       107  Eye injury\n",
      "     statusId            status\n",
      "127       130  Collision damage\n",
      "     statusId  status\n",
      "134       137  Damage\n"
     ]
    }
   ],
   "source": [
    "arr=[3,4,20,29,31,41,68,73,81,97,82,104,107,130,137] \n",
    "for val in arr:\n",
    "    print(status[status['statusId']==val])"
   ]
  },
  {
   "cell_type": "code",
   "execution_count": 179,
   "id": "f36d29db",
   "metadata": {},
   "outputs": [],
   "source": [
    "#These are the reason for driver dnfing (crashed,injured,puncture ie anything thats drivers fault)\n",
    "df['driver_dnf'] = df['statusId'].apply(lambda x: 1 if x in [3,4,20,29,31,41,68,73,81,97,82,104,107,130,137] else 0)\n",
    "#Engine failure etc ie constructor issues\n",
    "df['constructor_dnf'] = df['statusId'].apply(lambda x: 1 if x not in [3,4,20,29,31,41,68,73,81,97,82,104,107,130,137,1] else 0)"
   ]
  },
  {
   "cell_type": "markdown",
   "id": "98b3d998",
   "metadata": {},
   "source": [
    "Creating a drivers confidence metric to see how reliable a driver is based on the number of DNFs"
   ]
  },
  {
   "cell_type": "code",
   "execution_count": 180,
   "id": "e31db289",
   "metadata": {},
   "outputs": [],
   "source": [
    "dnf_by_driver = df.groupby('driver').sum()['driver_dnf']\n",
    "driver_race_entered = df.groupby('driver').count()['driver_dnf']\n",
    "driver_dnf_ratio = (dnf_by_driver/driver_race_entered)\n",
    "driver_confidence = 1-driver_dnf_ratio\n",
    "dc_dict = dict(zip(driver_confidence.index,driver_confidence))"
   ]
  },
  {
   "cell_type": "markdown",
   "id": "b05245d7",
   "metadata": {},
   "source": [
    "Constructor reliability created based on the number of times constructor has dnf due to engine failure etc"
   ]
  },
  {
   "cell_type": "code",
   "execution_count": 181,
   "id": "8f5f374e",
   "metadata": {},
   "outputs": [],
   "source": [
    "dnf_by_constructor = df.groupby('constructor').sum()['constructor_dnf']\n",
    "constructor_race_entered = df.groupby('constructor').count()['constructor_dnf']\n",
    "constructor_dnf_ratio = (dnf_by_constructor/constructor_race_entered)\n",
    "constructor_relaiblity = 1-constructor_dnf_ratio\n",
    "cr_dict = dict(zip(constructor_relaiblity.index,constructor_relaiblity))"
   ]
  },
  {
   "cell_type": "code",
   "execution_count": 182,
   "id": "9cfac9f8",
   "metadata": {},
   "outputs": [],
   "source": [
    "df['driver_confidence'] = df['driver'].apply(lambda x:dc_dict[x])\n",
    "df['constructor_relaiblity'] = df['constructor'].apply(lambda x:cr_dict[x])"
   ]
  },
  {
   "cell_type": "code",
   "execution_count": 183,
   "id": "7fb7b0d5",
   "metadata": {},
   "outputs": [],
   "source": [
    "active_constructors = ['Alpine F1 Team', 'Williams', 'McLaren', 'Ferrari', 'Mercedes',\n",
    "                       'AlphaTauri', 'Racing Point', 'Alfa Romeo', 'Red Bull',\n",
    "                       'Haas F1 Team']\n",
    "active_drivers = ['Daniel Ricciardo', 'Kevin Magnussen', 'Carlos Sainz',\n",
    "                  'Valtteri Bottas', 'Lance Stroll', 'George Russell',\n",
    "                  'Lando Norris', 'Oscar Piastri', 'Yuki Tsunoda',\n",
    "                  'Charles Leclerc', 'Lewis Hamilton', 'Nico Hulkenberg',\n",
    "                  'Max Verstappen', 'Pierre Gasly', 'Alexander Albon',\n",
    "                  'Sergio Pérez', 'Esteban Ocon', 'Zhou Guanyu',\n",
    "                  'Logan Sargeant','Fernando Alonso']\n",
    "df['active_driver'] = df['driver'].apply(lambda x: int(x in active_drivers))\n",
    "df['active_constructor'] = df['constructor'].apply(lambda x: int(x in active_constructors))"
   ]
  },
  {
   "cell_type": "code",
   "execution_count": 184,
   "id": "58484467",
   "metadata": {},
   "outputs": [],
   "source": [
    "df_final = df[['GP_name','quali_pos','constructor','driver','position','driver_confidence','constructor_relaiblity','active_driver','active_constructor','age_at_gp_in_days']]\n",
    "df_final = df_final[(df_final['active_driver']==1)&(df_final['active_constructor']==1)]"
   ]
  },
  {
   "cell_type": "code",
   "execution_count": 76,
   "id": "6cf199e5",
   "metadata": {},
   "outputs": [
    {
     "data": {
      "text/html": [
       "<div>\n",
       "<style scoped>\n",
       "    .dataframe tbody tr th:only-of-type {\n",
       "        vertical-align: middle;\n",
       "    }\n",
       "\n",
       "    .dataframe tbody tr th {\n",
       "        vertical-align: top;\n",
       "    }\n",
       "\n",
       "    .dataframe thead th {\n",
       "        text-align: right;\n",
       "    }\n",
       "</style>\n",
       "<table border=\"1\" class=\"dataframe\">\n",
       "  <thead>\n",
       "    <tr style=\"text-align: right;\">\n",
       "      <th></th>\n",
       "      <th>GP_name</th>\n",
       "      <th>quali_pos</th>\n",
       "      <th>constructor</th>\n",
       "      <th>driver</th>\n",
       "      <th>position</th>\n",
       "      <th>driver_confidence</th>\n",
       "      <th>constructor_relaiblity</th>\n",
       "      <th>active_driver</th>\n",
       "      <th>active_constructor</th>\n",
       "      <th>age_at_gp_in_days</th>\n",
       "    </tr>\n",
       "  </thead>\n",
       "  <tbody>\n",
       "    <tr>\n",
       "      <th>39</th>\n",
       "      <td>Albert Park Grand Prix Circuit</td>\n",
       "      <td>12</td>\n",
       "      <td>Alpine F1 Team</td>\n",
       "      <td>Daniel Ricciardo</td>\n",
       "      <td>12</td>\n",
       "      <td>0.957576</td>\n",
       "      <td>0.527378</td>\n",
       "      <td>1</td>\n",
       "      <td>1</td>\n",
       "      <td>10851</td>\n",
       "    </tr>\n",
       "    <tr>\n",
       "      <th>40</th>\n",
       "      <td>Albert Park Grand Prix Circuit</td>\n",
       "      <td>14</td>\n",
       "      <td>Alpine F1 Team</td>\n",
       "      <td>Kevin Magnussen</td>\n",
       "      <td>15</td>\n",
       "      <td>0.910448</td>\n",
       "      <td>0.527378</td>\n",
       "      <td>1</td>\n",
       "      <td>1</td>\n",
       "      <td>8567</td>\n",
       "    </tr>\n",
       "    <tr>\n",
       "      <th>41</th>\n",
       "      <td>Albert Park Grand Prix Circuit</td>\n",
       "      <td>9</td>\n",
       "      <td>Alpine F1 Team</td>\n",
       "      <td>Carlos Sainz</td>\n",
       "      <td>9</td>\n",
       "      <td>0.902299</td>\n",
       "      <td>0.527378</td>\n",
       "      <td>1</td>\n",
       "      <td>1</td>\n",
       "      <td>8606</td>\n",
       "    </tr>\n",
       "    <tr>\n",
       "      <th>92</th>\n",
       "      <td>Albert Park Grand Prix Circuit</td>\n",
       "      <td>0</td>\n",
       "      <td>Williams</td>\n",
       "      <td>Valtteri Bottas</td>\n",
       "      <td>6</td>\n",
       "      <td>0.948571</td>\n",
       "      <td>0.425714</td>\n",
       "      <td>1</td>\n",
       "      <td>1</td>\n",
       "      <td>9330</td>\n",
       "    </tr>\n",
       "    <tr>\n",
       "      <th>93</th>\n",
       "      <td>Albert Park Grand Prix Circuit</td>\n",
       "      <td>16</td>\n",
       "      <td>Williams</td>\n",
       "      <td>Valtteri Bottas</td>\n",
       "      <td>11</td>\n",
       "      <td>0.948571</td>\n",
       "      <td>0.425714</td>\n",
       "      <td>1</td>\n",
       "      <td>1</td>\n",
       "      <td>9701</td>\n",
       "    </tr>\n",
       "  </tbody>\n",
       "</table>\n",
       "</div>"
      ],
      "text/plain": [
       "                           GP_name  quali_pos     constructor  \\\n",
       "39  Albert Park Grand Prix Circuit         12  Alpine F1 Team   \n",
       "40  Albert Park Grand Prix Circuit         14  Alpine F1 Team   \n",
       "41  Albert Park Grand Prix Circuit          9  Alpine F1 Team   \n",
       "92  Albert Park Grand Prix Circuit          0        Williams   \n",
       "93  Albert Park Grand Prix Circuit         16        Williams   \n",
       "\n",
       "              driver  position  driver_confidence  constructor_relaiblity  \\\n",
       "39  Daniel Ricciardo        12           0.957576                0.527378   \n",
       "40   Kevin Magnussen        15           0.910448                0.527378   \n",
       "41      Carlos Sainz         9           0.902299                0.527378   \n",
       "92   Valtteri Bottas         6           0.948571                0.425714   \n",
       "93   Valtteri Bottas        11           0.948571                0.425714   \n",
       "\n",
       "    active_driver  active_constructor age_at_gp_in_days  \n",
       "39              1                   1             10851  \n",
       "40              1                   1              8567  \n",
       "41              1                   1              8606  \n",
       "92              1                   1              9330  \n",
       "93              1                   1              9701  "
      ]
     },
     "execution_count": 76,
     "metadata": {},
     "output_type": "execute_result"
    }
   ],
   "source": [
    "df_final.head()"
   ]
  },
  {
   "cell_type": "code",
   "execution_count": 185,
   "id": "94312c1e",
   "metadata": {},
   "outputs": [],
   "source": [
    "df_final.to_csv('pointsornot.csv')"
   ]
  },
  {
   "cell_type": "markdown",
   "id": "44b5f88d",
   "metadata": {},
   "source": [
    "# Predicting if podium points or no points"
   ]
  },
  {
   "cell_type": "code",
   "execution_count": 53,
   "id": "a11c0178",
   "metadata": {},
   "outputs": [],
   "source": [
    "from sklearn.preprocessing import StandardScaler,LabelEncoder,OneHotEncoder\n",
    "from sklearn.model_selection import cross_val_score,StratifiedKFold,RandomizedSearchCV\n",
    "from sklearn.linear_model import LogisticRegression\n",
    "from sklearn.ensemble import RandomForestClassifier\n",
    "from sklearn.neighbors import KNeighborsClassifier\n",
    "from sklearn.naive_bayes import GaussianNB\n",
    "from sklearn.svm import SVC\n",
    "from sklearn.tree import DecisionTreeClassifier\n",
    "import joblib\n",
    "from sklearn.metrics import confusion_matrix,precision_score,f1_score,recall_score"
   ]
  },
  {
   "cell_type": "code",
   "execution_count": 54,
   "id": "0a8fbb36",
   "metadata": {},
   "outputs": [],
   "source": [
    "df=pd.read_csv('pointsornot.csv',index_col=0)"
   ]
  },
  {
   "cell_type": "code",
   "execution_count": 29,
   "id": "5f0ac2f3",
   "metadata": {},
   "outputs": [
    {
     "data": {
      "text/html": [
       "<div>\n",
       "<style scoped>\n",
       "    .dataframe tbody tr th:only-of-type {\n",
       "        vertical-align: middle;\n",
       "    }\n",
       "\n",
       "    .dataframe tbody tr th {\n",
       "        vertical-align: top;\n",
       "    }\n",
       "\n",
       "    .dataframe thead th {\n",
       "        text-align: right;\n",
       "    }\n",
       "</style>\n",
       "<table border=\"1\" class=\"dataframe\">\n",
       "  <thead>\n",
       "    <tr style=\"text-align: right;\">\n",
       "      <th></th>\n",
       "      <th>GP_name</th>\n",
       "      <th>quali_pos</th>\n",
       "      <th>constructor</th>\n",
       "      <th>driver</th>\n",
       "      <th>position</th>\n",
       "      <th>driver_confidence</th>\n",
       "      <th>constructor_relaiblity</th>\n",
       "      <th>active_driver</th>\n",
       "      <th>active_constructor</th>\n",
       "      <th>age_at_gp_in_days</th>\n",
       "    </tr>\n",
       "  </thead>\n",
       "  <tbody>\n",
       "    <tr>\n",
       "      <th>39</th>\n",
       "      <td>Albert Park Grand Prix Circuit</td>\n",
       "      <td>12</td>\n",
       "      <td>Alpine F1 Team</td>\n",
       "      <td>Daniel Ricciardo</td>\n",
       "      <td>12</td>\n",
       "      <td>0.957576</td>\n",
       "      <td>0.527378</td>\n",
       "      <td>1</td>\n",
       "      <td>1</td>\n",
       "      <td>10851</td>\n",
       "    </tr>\n",
       "    <tr>\n",
       "      <th>40</th>\n",
       "      <td>Albert Park Grand Prix Circuit</td>\n",
       "      <td>14</td>\n",
       "      <td>Alpine F1 Team</td>\n",
       "      <td>Kevin Magnussen</td>\n",
       "      <td>15</td>\n",
       "      <td>0.910448</td>\n",
       "      <td>0.527378</td>\n",
       "      <td>1</td>\n",
       "      <td>1</td>\n",
       "      <td>8567</td>\n",
       "    </tr>\n",
       "    <tr>\n",
       "      <th>41</th>\n",
       "      <td>Albert Park Grand Prix Circuit</td>\n",
       "      <td>9</td>\n",
       "      <td>Alpine F1 Team</td>\n",
       "      <td>Carlos Sainz</td>\n",
       "      <td>9</td>\n",
       "      <td>0.902299</td>\n",
       "      <td>0.527378</td>\n",
       "      <td>1</td>\n",
       "      <td>1</td>\n",
       "      <td>8606</td>\n",
       "    </tr>\n",
       "    <tr>\n",
       "      <th>92</th>\n",
       "      <td>Albert Park Grand Prix Circuit</td>\n",
       "      <td>0</td>\n",
       "      <td>Williams</td>\n",
       "      <td>Valtteri Bottas</td>\n",
       "      <td>6</td>\n",
       "      <td>0.948571</td>\n",
       "      <td>0.425714</td>\n",
       "      <td>1</td>\n",
       "      <td>1</td>\n",
       "      <td>9330</td>\n",
       "    </tr>\n",
       "    <tr>\n",
       "      <th>93</th>\n",
       "      <td>Albert Park Grand Prix Circuit</td>\n",
       "      <td>16</td>\n",
       "      <td>Williams</td>\n",
       "      <td>Valtteri Bottas</td>\n",
       "      <td>11</td>\n",
       "      <td>0.948571</td>\n",
       "      <td>0.425714</td>\n",
       "      <td>1</td>\n",
       "      <td>1</td>\n",
       "      <td>9701</td>\n",
       "    </tr>\n",
       "  </tbody>\n",
       "</table>\n",
       "</div>"
      ],
      "text/plain": [
       "                           GP_name  quali_pos     constructor  \\\n",
       "39  Albert Park Grand Prix Circuit         12  Alpine F1 Team   \n",
       "40  Albert Park Grand Prix Circuit         14  Alpine F1 Team   \n",
       "41  Albert Park Grand Prix Circuit          9  Alpine F1 Team   \n",
       "92  Albert Park Grand Prix Circuit          0        Williams   \n",
       "93  Albert Park Grand Prix Circuit         16        Williams   \n",
       "\n",
       "              driver  position  driver_confidence  constructor_relaiblity  \\\n",
       "39  Daniel Ricciardo        12           0.957576                0.527378   \n",
       "40   Kevin Magnussen        15           0.910448                0.527378   \n",
       "41      Carlos Sainz         9           0.902299                0.527378   \n",
       "92   Valtteri Bottas         6           0.948571                0.425714   \n",
       "93   Valtteri Bottas        11           0.948571                0.425714   \n",
       "\n",
       "    active_driver  active_constructor  age_at_gp_in_days  \n",
       "39              1                   1              10851  \n",
       "40              1                   1               8567  \n",
       "41              1                   1               8606  \n",
       "92              1                   1               9330  \n",
       "93              1                   1               9701  "
      ]
     },
     "execution_count": 29,
     "metadata": {},
     "output_type": "execute_result"
    }
   ],
   "source": [
    "df.head()"
   ]
  },
  {
   "cell_type": "code",
   "execution_count": 30,
   "id": "1e98ac34",
   "metadata": {},
   "outputs": [
    {
     "data": {
      "text/html": [
       "<div>\n",
       "<style scoped>\n",
       "    .dataframe tbody tr th:only-of-type {\n",
       "        vertical-align: middle;\n",
       "    }\n",
       "\n",
       "    .dataframe tbody tr th {\n",
       "        vertical-align: top;\n",
       "    }\n",
       "\n",
       "    .dataframe thead th {\n",
       "        text-align: right;\n",
       "    }\n",
       "</style>\n",
       "<table border=\"1\" class=\"dataframe\">\n",
       "  <thead>\n",
       "    <tr style=\"text-align: right;\">\n",
       "      <th></th>\n",
       "      <th>GP_name</th>\n",
       "      <th>quali_pos</th>\n",
       "      <th>constructor</th>\n",
       "      <th>driver</th>\n",
       "      <th>position</th>\n",
       "      <th>driver_confidence</th>\n",
       "      <th>constructor_relaiblity</th>\n",
       "      <th>active_driver</th>\n",
       "      <th>active_constructor</th>\n",
       "      <th>age_at_gp_in_days</th>\n",
       "    </tr>\n",
       "  </thead>\n",
       "  <tbody>\n",
       "    <tr>\n",
       "      <th>39</th>\n",
       "      <td>Albert Park Grand Prix Circuit</td>\n",
       "      <td>12</td>\n",
       "      <td>Alpine F1 Team</td>\n",
       "      <td>Daniel Ricciardo</td>\n",
       "      <td>12</td>\n",
       "      <td>0.957576</td>\n",
       "      <td>0.527378</td>\n",
       "      <td>1</td>\n",
       "      <td>1</td>\n",
       "      <td>10851</td>\n",
       "    </tr>\n",
       "    <tr>\n",
       "      <th>40</th>\n",
       "      <td>Albert Park Grand Prix Circuit</td>\n",
       "      <td>14</td>\n",
       "      <td>Alpine F1 Team</td>\n",
       "      <td>Kevin Magnussen</td>\n",
       "      <td>15</td>\n",
       "      <td>0.910448</td>\n",
       "      <td>0.527378</td>\n",
       "      <td>1</td>\n",
       "      <td>1</td>\n",
       "      <td>8567</td>\n",
       "    </tr>\n",
       "    <tr>\n",
       "      <th>41</th>\n",
       "      <td>Albert Park Grand Prix Circuit</td>\n",
       "      <td>9</td>\n",
       "      <td>Alpine F1 Team</td>\n",
       "      <td>Carlos Sainz</td>\n",
       "      <td>9</td>\n",
       "      <td>0.902299</td>\n",
       "      <td>0.527378</td>\n",
       "      <td>1</td>\n",
       "      <td>1</td>\n",
       "      <td>8606</td>\n",
       "    </tr>\n",
       "    <tr>\n",
       "      <th>92</th>\n",
       "      <td>Albert Park Grand Prix Circuit</td>\n",
       "      <td>0</td>\n",
       "      <td>Williams</td>\n",
       "      <td>Valtteri Bottas</td>\n",
       "      <td>6</td>\n",
       "      <td>0.948571</td>\n",
       "      <td>0.425714</td>\n",
       "      <td>1</td>\n",
       "      <td>1</td>\n",
       "      <td>9330</td>\n",
       "    </tr>\n",
       "    <tr>\n",
       "      <th>93</th>\n",
       "      <td>Albert Park Grand Prix Circuit</td>\n",
       "      <td>16</td>\n",
       "      <td>Williams</td>\n",
       "      <td>Valtteri Bottas</td>\n",
       "      <td>11</td>\n",
       "      <td>0.948571</td>\n",
       "      <td>0.425714</td>\n",
       "      <td>1</td>\n",
       "      <td>1</td>\n",
       "      <td>9701</td>\n",
       "    </tr>\n",
       "  </tbody>\n",
       "</table>\n",
       "</div>"
      ],
      "text/plain": [
       "                           GP_name  quali_pos     constructor  \\\n",
       "39  Albert Park Grand Prix Circuit         12  Alpine F1 Team   \n",
       "40  Albert Park Grand Prix Circuit         14  Alpine F1 Team   \n",
       "41  Albert Park Grand Prix Circuit          9  Alpine F1 Team   \n",
       "92  Albert Park Grand Prix Circuit          0        Williams   \n",
       "93  Albert Park Grand Prix Circuit         16        Williams   \n",
       "\n",
       "              driver  position  driver_confidence  constructor_relaiblity  \\\n",
       "39  Daniel Ricciardo        12           0.957576                0.527378   \n",
       "40   Kevin Magnussen        15           0.910448                0.527378   \n",
       "41      Carlos Sainz         9           0.902299                0.527378   \n",
       "92   Valtteri Bottas         6           0.948571                0.425714   \n",
       "93   Valtteri Bottas        11           0.948571                0.425714   \n",
       "\n",
       "    active_driver  active_constructor  age_at_gp_in_days  \n",
       "39              1                   1              10851  \n",
       "40              1                   1               8567  \n",
       "41              1                   1               8606  \n",
       "92              1                   1               9330  \n",
       "93              1                   1               9701  "
      ]
     },
     "execution_count": 30,
     "metadata": {},
     "output_type": "execute_result"
    }
   ],
   "source": [
    "df.head()"
   ]
  },
  {
   "cell_type": "code",
   "execution_count": 211,
   "id": "5b05a01e",
   "metadata": {},
   "outputs": [
    {
     "name": "stdout",
     "output_type": "stream",
     "text": [
      "{'Daniel Ricciardo': 0.9575757575757576, 'Kevin Magnussen': 0.9104477611940298, 'Carlos Sainz': 0.9022988505747126, 'Valtteri Bottas': 0.9485714285714286, 'Lance Stroll': 0.8955223880597015, 'Alexander Albon': 0.9285714285714286, 'George Russell': 0.9361702127659576, 'Logan Sargeant': 0.8333333333333334, 'Fernando Alonso': 0.9323308270676692, 'Lando Norris': 0.9574468085106383, 'Oscar Piastri': 0.9166666666666666, 'Charles Leclerc': 0.8956521739130435, 'Esteban Ocon': 0.9426229508196722, 'Pierre Gasly': 0.9159663865546218, 'Lewis Hamilton': 0.9827586206896552, 'Max Verstappen': 0.9142857142857144, 'Sergio Pérez': 0.976878612716763, 'Yuki Tsunoda': 0.9285714285714286}\n"
     ]
    }
   ],
   "source": [
    "driver_conf_dict = {}\n",
    "drivers=df['driver'].unique()\n",
    "for driver in drivers:\n",
    "    d_conf_vals=df[df['driver']==driver]['driver_confidence'].tolist()\n",
    "    d_conf=d_conf_vals[0]\n",
    "    driver_conf_dict[driver] = d_conf\n",
    "print(driver_conf_dict)"
   ]
  },
  {
   "cell_type": "code",
   "execution_count": 55,
   "id": "ad2132d5",
   "metadata": {},
   "outputs": [],
   "source": [
    "def position_index(x):\n",
    "    if x<4:\n",
    "        return 1  #podium\n",
    "    elif x>10:\n",
    "        return 3   # not in points\n",
    "    else :\n",
    "        return 2   # in points"
   ]
  },
  {
   "cell_type": "code",
   "execution_count": 8,
   "id": "b218032f",
   "metadata": {},
   "outputs": [
    {
     "data": {
      "text/plain": [
       "GP_name                    object\n",
       "quali_pos                   int64\n",
       "constructor                object\n",
       "driver                     object\n",
       "position                    int64\n",
       "driver_confidence         float64\n",
       "constructor_relaiblity    float64\n",
       "active_driver               int64\n",
       "active_constructor          int64\n",
       "age_at_gp_in_days           int64\n",
       "dtype: object"
      ]
     },
     "execution_count": 8,
     "metadata": {},
     "output_type": "execute_result"
    }
   ],
   "source": [
    "df.dtypes"
   ]
  },
  {
   "cell_type": "code",
   "execution_count": 56,
   "id": "44a8de55",
   "metadata": {},
   "outputs": [
    {
     "name": "stdout",
     "output_type": "stream",
     "text": [
      "{'Albert Park Grand Prix Circuit': 0, 'Autodromo Enzo e Dino Ferrari': 1, 'Autodromo Internazionale del Mugello': 2, 'Autodromo Nazionale di Monza': 3, 'Autódromo Hermanos Rodríguez': 4, 'Autódromo Internacional do Algarve': 5, 'Autódromo José Carlos Pace': 6, 'Bahrain International Circuit': 7, 'Baku City Circuit': 8, 'Circuit Gilles Villeneuve': 9, 'Circuit Park Zandvoort': 10, 'Circuit Paul Ricard': 11, 'Circuit de Barcelona-Catalunya': 12, 'Circuit de Monaco': 13, 'Circuit de Spa-Francorchamps': 14, 'Circuit of the Americas': 15, 'Hockenheimring': 16, 'Hungaroring': 17, 'Istanbul Park': 18, 'Jeddah Corniche Circuit': 19, 'Losail International Circuit': 20, 'Marina Bay Street Circuit': 21, 'Miami International Autodrome': 22, 'Nürburgring': 23, 'Red Bull Ring': 24, 'Sepang International Circuit': 25, 'Shanghai International Circuit': 26, 'Silverstone Circuit': 27, 'Sochi Autodrom': 28, 'Suzuka Circuit': 29, 'Yas Marina Circuit': 30}\n",
      "{'Alfa Romeo': 0, 'AlphaTauri': 1, 'Alpine F1 Team': 2, 'Ferrari': 3, 'Haas F1 Team': 4, 'McLaren': 5, 'Mercedes': 6, 'Racing Point': 7, 'Red Bull': 8, 'Williams': 9}\n",
      "{'Alexander Albon': 0, 'Carlos Sainz': 1, 'Charles Leclerc': 2, 'Daniel Ricciardo': 3, 'Esteban Ocon': 4, 'Fernando Alonso': 5, 'George Russell': 6, 'Kevin Magnussen': 7, 'Lance Stroll': 8, 'Lando Norris': 9, 'Lewis Hamilton': 10, 'Logan Sargeant': 11, 'Max Verstappen': 12, 'Oscar Piastri': 13, 'Pierre Gasly': 14, 'Sergio Pérez': 15, 'Valtteri Bottas': 16, 'Yuki Tsunoda': 17}\n"
     ]
    }
   ],
   "source": [
    "le = LabelEncoder()\n",
    "df['GP_name'] = le.fit_transform(df['GP_name'])\n",
    "le_name_mapping = dict(zip(le.classes_, le.transform(le.classes_)))\n",
    "print(le_name_mapping)\n",
    "df['constructor'] = le.fit_transform(df['constructor'])\n",
    "le_name_mapping = dict(zip(le.classes_, le.transform(le.classes_)))\n",
    "print(le_name_mapping)\n",
    "df['driver'] = le.fit_transform(df['driver'])\n",
    "le_name_mapping = dict(zip(le.classes_, le.transform(le.classes_)))\n",
    "print(le_name_mapping)\n",
    "df['position']=df['position'].apply(lambda x:position_index(x))\n",
    "df=df.drop(['active_driver','active_constructor'],axis=1)"
   ]
  },
  {
   "cell_type": "code",
   "execution_count": 41,
   "id": "15daea5f",
   "metadata": {},
   "outputs": [],
   "source": [
    "X=df.drop('position',axis=1)\n",
    "y=df['position']"
   ]
  },
  {
   "cell_type": "code",
   "execution_count": 42,
   "id": "eb57022e",
   "metadata": {},
   "outputs": [
    {
     "data": {
      "text/plain": [
       "array([3, 2, 1], dtype=int64)"
      ]
     },
     "execution_count": 42,
     "metadata": {},
     "output_type": "execute_result"
    }
   ],
   "source": [
    "y.unique()"
   ]
  },
  {
   "cell_type": "markdown",
   "id": "7ed6958e",
   "metadata": {},
   "source": [
    "# Logistic Regression"
   ]
  },
  {
   "cell_type": "code",
   "execution_count": 50,
   "id": "37924f23",
   "metadata": {},
   "outputs": [],
   "source": [
    "lr=LogisticRegression()"
   ]
  },
  {
   "cell_type": "code",
   "execution_count": 44,
   "id": "025cbb79",
   "metadata": {},
   "outputs": [],
   "source": [
    "import warnings\n",
    "warnings.filterwarnings('ignore')"
   ]
  },
  {
   "cell_type": "code",
   "execution_count": 66,
   "id": "b7da12f3",
   "metadata": {},
   "outputs": [],
   "source": [
    "cv = StratifiedKFold(n_splits=10,random_state=1, shuffle = True)\n",
    "result = cross_val_score(lr,X,y,cv=cv,scoring='accuracy')"
   ]
  },
  {
   "cell_type": "code",
   "execution_count": 67,
   "id": "9cc37902",
   "metadata": {},
   "outputs": [
    {
     "name": "stdout",
     "output_type": "stream",
     "text": [
      "Accuracy 0.8374833909115068\n"
     ]
    }
   ],
   "source": [
    "print(\"Accuracy\",result.mean())"
   ]
  },
  {
   "cell_type": "code",
   "execution_count": 51,
   "id": "32828208",
   "metadata": {},
   "outputs": [
    {
     "data": {
      "text/html": [
       "<style>#sk-container-id-1 {color: black;}#sk-container-id-1 pre{padding: 0;}#sk-container-id-1 div.sk-toggleable {background-color: white;}#sk-container-id-1 label.sk-toggleable__label {cursor: pointer;display: block;width: 100%;margin-bottom: 0;padding: 0.3em;box-sizing: border-box;text-align: center;}#sk-container-id-1 label.sk-toggleable__label-arrow:before {content: \"▸\";float: left;margin-right: 0.25em;color: #696969;}#sk-container-id-1 label.sk-toggleable__label-arrow:hover:before {color: black;}#sk-container-id-1 div.sk-estimator:hover label.sk-toggleable__label-arrow:before {color: black;}#sk-container-id-1 div.sk-toggleable__content {max-height: 0;max-width: 0;overflow: hidden;text-align: left;background-color: #f0f8ff;}#sk-container-id-1 div.sk-toggleable__content pre {margin: 0.2em;color: black;border-radius: 0.25em;background-color: #f0f8ff;}#sk-container-id-1 input.sk-toggleable__control:checked~div.sk-toggleable__content {max-height: 200px;max-width: 100%;overflow: auto;}#sk-container-id-1 input.sk-toggleable__control:checked~label.sk-toggleable__label-arrow:before {content: \"▾\";}#sk-container-id-1 div.sk-estimator input.sk-toggleable__control:checked~label.sk-toggleable__label {background-color: #d4ebff;}#sk-container-id-1 div.sk-label input.sk-toggleable__control:checked~label.sk-toggleable__label {background-color: #d4ebff;}#sk-container-id-1 input.sk-hidden--visually {border: 0;clip: rect(1px 1px 1px 1px);clip: rect(1px, 1px, 1px, 1px);height: 1px;margin: -1px;overflow: hidden;padding: 0;position: absolute;width: 1px;}#sk-container-id-1 div.sk-estimator {font-family: monospace;background-color: #f0f8ff;border: 1px dotted black;border-radius: 0.25em;box-sizing: border-box;margin-bottom: 0.5em;}#sk-container-id-1 div.sk-estimator:hover {background-color: #d4ebff;}#sk-container-id-1 div.sk-parallel-item::after {content: \"\";width: 100%;border-bottom: 1px solid gray;flex-grow: 1;}#sk-container-id-1 div.sk-label:hover label.sk-toggleable__label {background-color: #d4ebff;}#sk-container-id-1 div.sk-serial::before {content: \"\";position: absolute;border-left: 1px solid gray;box-sizing: border-box;top: 0;bottom: 0;left: 50%;z-index: 0;}#sk-container-id-1 div.sk-serial {display: flex;flex-direction: column;align-items: center;background-color: white;padding-right: 0.2em;padding-left: 0.2em;position: relative;}#sk-container-id-1 div.sk-item {position: relative;z-index: 1;}#sk-container-id-1 div.sk-parallel {display: flex;align-items: stretch;justify-content: center;background-color: white;position: relative;}#sk-container-id-1 div.sk-item::before, #sk-container-id-1 div.sk-parallel-item::before {content: \"\";position: absolute;border-left: 1px solid gray;box-sizing: border-box;top: 0;bottom: 0;left: 50%;z-index: -1;}#sk-container-id-1 div.sk-parallel-item {display: flex;flex-direction: column;z-index: 1;position: relative;background-color: white;}#sk-container-id-1 div.sk-parallel-item:first-child::after {align-self: flex-end;width: 50%;}#sk-container-id-1 div.sk-parallel-item:last-child::after {align-self: flex-start;width: 50%;}#sk-container-id-1 div.sk-parallel-item:only-child::after {width: 0;}#sk-container-id-1 div.sk-dashed-wrapped {border: 1px dashed gray;margin: 0 0.4em 0.5em 0.4em;box-sizing: border-box;padding-bottom: 0.4em;background-color: white;}#sk-container-id-1 div.sk-label label {font-family: monospace;font-weight: bold;display: inline-block;line-height: 1.2em;}#sk-container-id-1 div.sk-label-container {text-align: center;}#sk-container-id-1 div.sk-container {/* jupyter's `normalize.less` sets `[hidden] { display: none; }` but bootstrap.min.css set `[hidden] { display: none !important; }` so we also need the `!important` here to be able to override the default hidden behavior on the sphinx rendered scikit-learn.org. See: https://github.com/scikit-learn/scikit-learn/issues/21755 */display: inline-block !important;position: relative;}#sk-container-id-1 div.sk-text-repr-fallback {display: none;}</style><div id=\"sk-container-id-1\" class=\"sk-top-container\"><div class=\"sk-text-repr-fallback\"><pre>LogisticRegression()</pre><b>In a Jupyter environment, please rerun this cell to show the HTML representation or trust the notebook. <br />On GitHub, the HTML representation is unable to render, please try loading this page with nbviewer.org.</b></div><div class=\"sk-container\" hidden><div class=\"sk-item\"><div class=\"sk-estimator sk-toggleable\"><input class=\"sk-toggleable__control sk-hidden--visually\" id=\"sk-estimator-id-1\" type=\"checkbox\" checked><label for=\"sk-estimator-id-1\" class=\"sk-toggleable__label sk-toggleable__label-arrow\">LogisticRegression</label><div class=\"sk-toggleable__content\"><pre>LogisticRegression()</pre></div></div></div></div></div>"
      ],
      "text/plain": [
       "LogisticRegression()"
      ]
     },
     "execution_count": 51,
     "metadata": {},
     "output_type": "execute_result"
    }
   ],
   "source": [
    "lr.fit(X_train,y_train)"
   ]
  },
  {
   "cell_type": "code",
   "execution_count": 52,
   "id": "c6baa8f0",
   "metadata": {},
   "outputs": [
    {
     "data": {
      "text/plain": [
       "['final_lr.joblib']"
      ]
     },
     "execution_count": 52,
     "metadata": {},
     "output_type": "execute_result"
    }
   ],
   "source": [
    "joblib.dump(lr, 'final_lr.joblib')"
   ]
  },
  {
   "cell_type": "markdown",
   "id": "6bdf23e8",
   "metadata": {},
   "source": [
    "# Random Forrest"
   ]
  },
  {
   "cell_type": "code",
   "execution_count": 105,
   "id": "5bf5a43d",
   "metadata": {},
   "outputs": [],
   "source": [
    "rf=RandomForestClassifier()"
   ]
  },
  {
   "cell_type": "code",
   "execution_count": 48,
   "id": "c2f966ed",
   "metadata": {},
   "outputs": [],
   "source": [
    "from sklearn.model_selection import train_test_split"
   ]
  },
  {
   "cell_type": "code",
   "execution_count": 106,
   "id": "b1898b98",
   "metadata": {},
   "outputs": [],
   "source": [
    "X_train, X_test, y_train, y_test = train_test_split(X, y, test_size=0.3, random_state=42)"
   ]
  },
  {
   "cell_type": "code",
   "execution_count": 107,
   "id": "d72c65d2",
   "metadata": {},
   "outputs": [],
   "source": [
    "rf.fit(X_train,y_train)\n",
    "pred=rf.predict(X_test)"
   ]
  },
  {
   "cell_type": "code",
   "execution_count": 84,
   "id": "86922b81",
   "metadata": {},
   "outputs": [
    {
     "name": "stdout",
     "output_type": "stream",
     "text": [
      "Index(['GP_name', 'quali_pos', 'constructor', 'driver', 'position',\n",
      "       'driver_confidence', 'constructor_relaiblity', 'age_at_gp_in_days'],\n",
      "      dtype='object')\n",
      "[0.06055026 0.65216916 0.0264278  0.03383053 0.03545923 0.08904215\n",
      " 0.10252087]\n"
     ]
    }
   ],
   "source": [
    "feat=rf.feature_importances_\n",
    "cols=df.columns\n",
    "print(cols)\n",
    "print(feat)"
   ]
  },
  {
   "cell_type": "code",
   "execution_count": 94,
   "id": "4fd05ca0",
   "metadata": {},
   "outputs": [
    {
     "data": {
      "image/png": "[encoded data removed]",
      "text/plain": [
       "<Figure size 640x480 with 1 Axes>"
      ]
     },
     "metadata": {},
     "output_type": "display_data"
    }
   ],
   "source": [
    "importances = rf.feature_importances_\n",
    "indices = np.argsort(importances)[::-1]\n",
    "names = [X_train.columns[i] for i in indices]\n",
    "plt.figure()\n",
    "plt.title(\"Feature Importance\")\n",
    "plt.bar(range(X_train.shape[1]), importances[indices],color='green')\n",
    "plt.xticks(range(X_train.shape[1]), names, rotation=90)\n",
    "plt.show()"
   ]
  },
  {
   "cell_type": "code",
   "execution_count": 116,
   "id": "2cadc49f",
   "metadata": {},
   "outputs": [
    {
     "data": {
      "image/png": "[encoded data removed]",
      "text/plain": [
       "<Figure size 640x480 with 2 Axes>"
      ]
     },
     "metadata": {},
     "output_type": "display_data"
    }
   ],
   "source": [
    "sns.heatmap(confusion_matrix(y_test,pred),annot=True,cmap='PuBu',fmt='g')\n",
    "plt.xlabel('Predicted labels')\n",
    "plt.ylabel('True labels')\n",
    "plt.show()"
   ]
  },
  {
   "cell_type": "code",
   "execution_count": 201,
   "id": "be62faeb",
   "metadata": {},
   "outputs": [],
   "source": [
    "pred=rf.predict(X_test)"
   ]
  },
  {
   "cell_type": "code",
   "execution_count": 34,
   "id": "24db524c",
   "metadata": {},
   "outputs": [],
   "source": [
    "from sklearn.metrics import classification_report,accuracy_score"
   ]
  },
  {
   "cell_type": "code",
   "execution_count": 203,
   "id": "c6642941",
   "metadata": {},
   "outputs": [],
   "source": [
    "cv = StratifiedKFold(n_splits=10,random_state=1, shuffle = True)\n",
    "result = cross_val_score(rf,X,y,cv=cv,scoring='accuracy')"
   ]
  },
  {
   "cell_type": "code",
   "execution_count": 204,
   "id": "9d6c5c9c",
   "metadata": {},
   "outputs": [
    {
     "name": "stdout",
     "output_type": "stream",
     "text": [
      "0.9265213925059793\n"
     ]
    }
   ],
   "source": [
    "print(result.mean())"
   ]
  },
  {
   "cell_type": "code",
   "execution_count": 205,
   "id": "7e517d52",
   "metadata": {},
   "outputs": [
    {
     "data": {
      "text/plain": [
       "['final_rf.joblib']"
      ]
     },
     "execution_count": 205,
     "metadata": {},
     "output_type": "execute_result"
    }
   ],
   "source": [
    "joblib.dump(rf, 'final_rf.joblib')"
   ]
  },
  {
   "cell_type": "markdown",
   "id": "3ff2db04",
   "metadata": {},
   "source": [
    "# Decision Tree"
   ]
  },
  {
   "cell_type": "code",
   "execution_count": 97,
   "id": "7d35b663",
   "metadata": {},
   "outputs": [],
   "source": [
    "dt=DecisionTreeClassifier()"
   ]
  },
  {
   "cell_type": "code",
   "execution_count": 98,
   "id": "c03cd91d",
   "metadata": {},
   "outputs": [],
   "source": [
    "cv = StratifiedKFold(n_splits=10,random_state=1, shuffle = True)\n",
    "result = cross_val_score(dt,X,y,cv=cv,scoring='accuracy')"
   ]
  },
  {
   "cell_type": "code",
   "execution_count": 99,
   "id": "c30922b6",
   "metadata": {},
   "outputs": [
    {
     "name": "stdout",
     "output_type": "stream",
     "text": [
      "0.8893281070068207\n"
     ]
    }
   ],
   "source": [
    "print(result.mean())"
   ]
  },
  {
   "cell_type": "markdown",
   "id": "5f518e1a",
   "metadata": {},
   "source": [
    "# GaussianNb"
   ]
  },
  {
   "cell_type": "code",
   "execution_count": 100,
   "id": "7629297a",
   "metadata": {},
   "outputs": [],
   "source": [
    "gnb=GaussianNB()"
   ]
  },
  {
   "cell_type": "code",
   "execution_count": 101,
   "id": "5c9a8d14",
   "metadata": {},
   "outputs": [],
   "source": [
    "cv = StratifiedKFold(n_splits=10,random_state=1, shuffle = True)\n",
    "result = cross_val_score(gnb,X,y,cv=cv,scoring='accuracy')"
   ]
  },
  {
   "cell_type": "code",
   "execution_count": 102,
   "id": "affd52dc",
   "metadata": {
    "scrolled": false
   },
   "outputs": [
    {
     "name": "stdout",
     "output_type": "stream",
     "text": [
      "0.8276330941624591\n"
     ]
    }
   ],
   "source": [
    "print(result.mean())"
   ]
  }
 ],
 "metadata": {
  "kernelspec": {
   "display_name": "Python 3 (ipykernel)",
   "language": "python",
   "name": "python3"
  },
  "language_info": {
   "codemirror_mode": {
    "name": "ipython",
    "version": 3
   },
   "file_extension": ".py",
   "mimetype": "text/x-python",
   "name": "python",
   "nbconvert_exporter": "python",
   "pygments_lexer": "ipython3",
   "version": "3.10.9"
  }
 },
 "nbformat": 4,
 "nbformat_minor": 5
}
